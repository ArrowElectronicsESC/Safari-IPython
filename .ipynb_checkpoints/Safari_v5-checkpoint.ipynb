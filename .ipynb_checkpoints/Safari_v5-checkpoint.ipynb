{
 "cells": [
  {
   "cell_type": "code",
   "execution_count": 1,
   "metadata": {},
   "outputs": [
    {
     "data": {
      "application/vnd.jupyter.widget-view+json": {
       "model_id": "d000c64f68dd4b5e8102f9f546bfd834",
       "version_major": 2,
       "version_minor": 0
      },
      "text/plain": [
       "HBox(children=(Dropdown(description='Serial Port:', options=('COM5',), value='COM5'), Button(description='Conn…"
      ]
     },
     "metadata": {},
     "output_type": "display_data"
    },
    {
     "data": {
      "application/vnd.jupyter.widget-view+json": {
       "model_id": "b156206d12ae404f84894f58f8870d65",
       "version_major": 2,
       "version_minor": 0
      },
      "text/plain": [
       "HBox(children=(Button(description='Start Data Collection', disabled=True, style=ButtonStyle()),))"
      ]
     },
     "metadata": {},
     "output_type": "display_data"
    },
    {
     "data": {
      "application/vnd.jupyter.widget-view+json": {
       "model_id": "47016727e87541c9a3979158d8ef3a4c",
       "version_major": 2,
       "version_minor": 0
      },
      "text/plain": [
       "HBox(children=(RadioButtons(description='Data Format', options=('Voltage', 'Converted'), value='Voltage'),))"
      ]
     },
     "metadata": {},
     "output_type": "display_data"
    }
   ],
   "source": [
    "from safari_serial import Serial\n",
    "from safari_data import Data\n",
    "\n",
    "# Set the TkAgg backend for matplotlib\n",
    "%matplotlib tk\n",
    "\n",
    "# Function for formatting channel 0 voltage for plotting\n",
    "def convert_channel_0_voltage(voltage):\n",
    "    return round(float(voltage), 4)\n",
    "\n",
    "# Function for formatting channel 4 voltage for plotting\n",
    "def convert_channel_4_voltage(voltage):\n",
    "    return round(float(voltage) * 1000, 4)\n",
    "\n",
    "# Function for formatting channel 6 voltage for plotting\n",
    "def convert_channel_6_voltage(voltage):\n",
    "    return round(float(voltage), 4)\n",
    "\n",
    "# Function for converting channel 0 voltage to an accelerometer value\n",
    "def convert_accelerometer(voltage, code):\n",
    "    del code\n",
    "    \n",
    "    vcc = 3.3\n",
    "    return round((voltage - vcc / 2) * 1 / 0.640, 3)\n",
    "\n",
    "# Function for converting channel 4 code to a temperature value\n",
    "def convert_temperature(voltage, code):\n",
    "    del voltage\n",
    "    \n",
    "    r_rtd = (code * 5110) / ((2**24) * 16)\n",
    "    temp = (r_rtd - 100) / 0.385\n",
    "    return round(temp, 2)\n",
    "\n",
    "# Function for converting channel 6 voltage to a pressure value\n",
    "def convert_pressure(voltage, code):\n",
    "    del code\n",
    "    \n",
    "    vcc = 3.3\n",
    "    r1 = 132000\n",
    "    r2 = 100000\n",
    "    return round(((190.0 * voltage * (r1/r2)) / vcc - 38), 3)\n",
    "\n",
    "\n",
    "# Create a dictionary containing all of the enabled channels\n",
    "channels = {\"0\":{}, \"4\":{}, \"6\":{}}\n",
    "\n",
    "#default fields for each channel\n",
    "for channel in channels:\n",
    "    channels[channel][\"max_elements\"] = 300\n",
    "    channels[channel][\"timestamps\"]=[]\n",
    "    channels[channel][\"voltages\"]=[]\n",
    "    channels[channel][\"values\"]=[]\n",
    "    channels[channel][\"axis\"] = None\n",
    "    channels[channel][\"annotation\"] = None\n",
    "    channels[channel][\"annotation_visible\"] = False\n",
    "    channels[channel][\"annotation_text\"] = \"\"\n",
    "    channels[channel][\"line\"] = None\n",
    "    channels[channel][\"annot_ax_xy\"] = None\n",
    "    channels[channel][\"axes_color\"] = 'tab:black'\n",
    "    channels[channel][\"plot_title\"] = \"\"\n",
    "    channels[channel][\"y_label\"] = \"\"\n",
    "    channels[channel][\"y_label_converted\"] = \"\"\n",
    "    channels[channel][\"voltage_format_func\"] = None\n",
    "    channels[channel][\"value_conversion_func\"] = None\n",
    "\n",
    "# Configure Channel 0\n",
    "channels[\"0\"][\"axes_color\"] = 'tab:blue'\n",
    "channels[\"0\"][\"plot_title\"] = \"Channel 0\"\n",
    "channels[\"0\"][\"y_label\"] = 'Voltage (V)'\n",
    "channels[\"0\"][\"y_label_converted\"] = 'Accel. (g)'\n",
    "channels[\"0\"][\"voltage_format_func\"] = convert_channel_0_voltage\n",
    "channels[\"0\"][\"value_conversion_func\"] = convert_accelerometer\n",
    "\n",
    "# Configure Channel 4\n",
    "channels[\"4\"][\"axes_color\"] = 'tab:red'\n",
    "channels[\"4\"][\"plot_title\"] = \"Channel 4\"\n",
    "channels[\"4\"][\"y_label\"] = 'Voltage (mV)'\n",
    "channels[\"6\"][\"y_label_converted\"] = 'Temp. (deg C)'\n",
    "channels[\"4\"][\"voltage_format_func\"] = convert_channel_4_voltage\n",
    "channels[\"4\"][\"value_conversion_func\"] = convert_temperature\n",
    "\n",
    "# Configure Channel 6\n",
    "channels[\"6\"][\"axes_color\"] = 'tab:green'\n",
    "channels[\"6\"][\"plot_title\"] = \"Channel 6\"\n",
    "channels[\"6\"][\"y_label\"] = 'Voltage (V)'\n",
    "channels[\"6\"][\"y_label_converted\"] = 'Pressure (Pa)'\n",
    "channels[\"6\"][\"voltage_format_func\"] = convert_channel_6_voltage\n",
    "channels[\"6\"][\"value_conversion_func\"] = convert_pressure\n",
    "    \n",
    "#Initialize the classes with the dictionary containing the channel information\n",
    "serial = Serial(channels)\n",
    "data = Data(channels)"
   ]
  },
  {
   "cell_type": "code",
   "execution_count": null,
   "metadata": {},
   "outputs": [],
   "source": [
    "serial.write_file_to_meerkat(\"ad7124_default_config.py\")"
   ]
  },
  {
   "cell_type": "code",
   "execution_count": null,
   "metadata": {},
   "outputs": [],
   "source": [
    "serial.write_file_to_meerkat(\"ad7124.py\")"
   ]
  },
  {
   "cell_type": "code",
   "execution_count": null,
   "metadata": {},
   "outputs": [],
   "source": [
    "serial.write_file_to_meerkat(\"safari.py\")"
   ]
  }
 ],
 "metadata": {
  "kernelspec": {
   "display_name": "Python 3",
   "language": "python",
   "name": "python3"
  },
  "language_info": {
   "codemirror_mode": {
    "name": "ipython",
    "version": 3
   },
   "file_extension": ".py",
   "mimetype": "text/x-python",
   "name": "python",
   "nbconvert_exporter": "python",
   "pygments_lexer": "ipython3",
   "version": "3.6.10"
  }
 },
 "nbformat": 4,
 "nbformat_minor": 2
}
